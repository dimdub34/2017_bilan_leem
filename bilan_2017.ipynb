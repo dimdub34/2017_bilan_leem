{
 "cells": [
  {
   "cell_type": "markdown",
   "metadata": {
    "deletable": true,
    "editable": true,
    "slideshow": {
     "slide_type": "slide"
    }
   },
   "source": [
    "# LEEM"
   ]
  },
  {
   "cell_type": "markdown",
   "metadata": {
    "deletable": true,
    "editable": true,
    "slideshow": {
     "slide_type": "subslide"
    }
   },
   "source": [
    "__Nombre de sessions par an__  \n",
    "![Sessions par an](sessions_annees.png)"
   ]
  },
  {
   "cell_type": "markdown",
   "metadata": {
    "deletable": true,
    "editable": true,
    "slideshow": {
     "slide_type": "subslide"
    }
   },
   "source": [
    "__Répartition des sessions au cours de l'année__\n",
    "<img src=\"sessions_annees_mois.png\" />"
   ]
  },
  {
   "cell_type": "markdown",
   "metadata": {
    "deletable": true,
    "editable": true,
    "slideshow": {
     "slide_type": "subslide"
    }
   },
   "source": [
    "__Montants dépensés__\n",
    "<img src=\"sessions_annees_depenses.png\" />"
   ]
  },
  {
   "cell_type": "markdown",
   "metadata": {
    "deletable": true,
    "editable": true,
    "slideshow": {
     "slide_type": "subslide"
    }
   },
   "source": [
    "<img src=\"bilan_2017_synthetique.png\" />"
   ]
  },
  {
   "cell_type": "markdown",
   "metadata": {
    "deletable": true,
    "editable": true,
    "slideshow": {
     "slide_type": "subslide"
    }
   },
   "source": [
    "__LEEM: Infrastructure, personnel et organisation permettant la réalisation d'expériences d'économie dans de bonnes\n",
    "conditions ...__\n",
    "\n",
    "__Infrastructure__  \n",
    "- Salle dédiée de 56m$^2$ au 2ème étage de la faculté  \n",
    "- Laboratoire mobile (10 netbooks)  \n",
    "\n",
    "__Personnel__  \n",
    "- Jean-Marc et Dimitri\n",
    "- Olivier et Emmanuel\n",
    "- Isabelle et Thésy  "
   ]
  },
  {
   "cell_type": "markdown",
   "metadata": {
    "deletable": true,
    "editable": true,
    "slideshow": {
     "slide_type": "subslide"
    }
   },
   "source": [
    "__Liquidités__  \n",
    "- Régie d'avances de 8000€ auprès de l'UM  \n",
    "- Retrait de liquide à la trésorerie municipale -> paiement des sujets ->  envoi des bordereaux et justificatifs à l'AG ->  vérification par l'AG -> récupération des fonds sur le compte du LEEM -> remise de fonds sur le compte de régie  \n",
    "\n",
    "__Bureau du LEEM__  \n",
    "- Discussions sur les orientations et projets du LEEM (comité d'éthique, nouvelle salle, SRUM ...)  \n",
    "- Définition des priorités si phénomènes de congestion  "
   ]
  },
  {
   "cell_type": "markdown",
   "metadata": {
    "deletable": true,
    "editable": true,
    "slideshow": {
     "slide_type": "subslide"
    }
   },
   "source": [
    "__Aide à la préparation d'une expérience: le groupe de travail du LEEM__  \n",
    "- liste de diffusion: leem-gt@umontpellier.fr  \n",
    "- pour présenter son protocole expérimental, avant de réaliser les expériences\n",
    "- pour présenter des résultats préliminaires\n",
    "- pour présenter un papier avec une expérience réalisée au LEEM (souvent en juin lors de la journée du LEEM)\n",
    "- pour présenter un point méthodologique  \n",
    "- se réunit sur demande\n",
    "\n",
    "__Planification d'une session / placement dans la file d'attente__\n",
    "- être passé au groupe de travail\n",
    "- avoir écrit les instructions\n",
    "- avoir réalisé et testé le programme informatique"
   ]
  },
  {
   "cell_type": "markdown",
   "metadata": {
    "deletable": true,
    "editable": true,
    "slideshow": {
     "slide_type": "subslide"
    }
   },
   "source": [
    "__Outils pour le développement des programmes informatiques des expériences__ \n",
    "\n",
    "- LE2M\n",
    "- z-tree (formation en M2 et à l'école doctorale)\n",
    "- oTree\n",
    "- LimeSurvey pour les enquêtes en ligne\n",
    "\n",
    "__Passation des sessions__\n",
    "- ne peut se faire sans la présence de JM ou Dimitri, pour liste des sujets inscrits, clés de la caisse, lancement programme informatique ...\n",
    "- pour l'accueil des sujets et le paiement c'est mieux d'être à 2\n",
    "- implication des doctorants expérimentalistes\n",
    "- remplir les bordereaux et le fichier excel correspondant  "
   ]
  },
  {
   "cell_type": "markdown",
   "metadata": {
    "deletable": true,
    "editable": true,
    "slideshow": {
     "slide_type": "subslide"
    }
   },
   "source": [
    "__Comptabilité__\n",
    "- fichier excel et bordereaux sont scannés et les originaux sont envoyé à l'AC de l'UM avec un document comptable fourni par l'AC  \n",
    "- tout passe par le compte du LEEM via bon de commandes et factures"
   ]
  },
  {
   "cell_type": "markdown",
   "metadata": {
    "deletable": true,
    "editable": true,
    "slideshow": {
     "slide_type": "subslide"
    }
   },
   "source": [
    "__Avenir__  \n",
    "- liste des publications avec expériences réalisées au LEEM  \n",
    "- comité d'éthique pour validation des protocoles\n",
    "- onglet dédié sur le site du CEE-M\n",
    "- nouvelle salle d'expérimentation (40 000€ à la Direction du Patrimoine de l'UM et demande de 50 000€ dans le cadre de l'AAP MUSE pour achat du matériel et du mobilier pour la nouvelle salle)"
   ]
  }
 ],
 "metadata": {
  "celltoolbar": "Slideshow",
  "kernelspec": {
   "display_name": "Python 3",
   "language": "python",
   "name": "python3"
  },
  "language_info": {
   "codemirror_mode": {
    "name": "ipython",
    "version": 3
   },
   "file_extension": ".py",
   "mimetype": "text/x-python",
   "name": "python",
   "nbconvert_exporter": "python",
   "pygments_lexer": "ipython3",
   "version": "3.5.2"
  }
 },
 "nbformat": 4,
 "nbformat_minor": 2
}
